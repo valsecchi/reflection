{
 "cells": [
  {
   "cell_type": "markdown",
   "metadata": {},
   "source": [
    "# Introduction\n",
    "version control\n",
    "\n",
    "windows -FC\n",
    "\n",
    "prompt in window\n",
    "cd folder\n",
    "FC file1  file2\n",
    "\n",
    "mac and linux Diff\n",
    "diff -u file1 file2\n"
   ]
  },
  {
   "cell_type": "markdown",
   "metadata": {},
   "source": [
    "How did viewing a diff between two versions of a file help you see the bug that\n",
    "was introduced?\n",
    "\n",
    "    It displays the difference between befor and after\n",
    "\n",
    "How could having easy access to the entire history of a file make you a more\n",
    "efficient programmer in the long term?\n",
    "\n",
    "    Restore and implement previous released version\n",
    "\n",
    "What do you think are the pros and cons of manually choosing when to create a\n",
    "commit, like you do in Git, vs having versions automatically saved, like Google\n",
    "docs does?\n",
    "\n",
    "    You have a better control of the implementation of your software\n",
    "\n",
    "Why do you think some version control systems, like Git, allow saving multiple\n",
    "files in one commit, while others, like Google Docs, treat each file separately?\n",
    "\n",
    "    Fill in your answer here\n",
    "\n",
    "How can you use the commands git log and git diff to view the history of files?\n",
    "\n",
    "    Fill in your answer here\n",
    "\n",
    "How might using version control make you more confident to make changes that\n",
    "could break something?\n",
    "\n",
    "    Fill in your answer here\n",
    "\n",
    "Now that you have your workspace set up, what do you want to try using Git for?\n",
    "\n",
    "    Fill in your answer here"
   ]
  },
  {
   "cell_type": "markdown",
   "metadata": {},
   "source": [
    "Also in dropbox and google docs restore from saving"
   ]
  },
  {
   "cell_type": "markdown",
   "metadata": {},
   "source": [
    "- CVS....SVN\n",
    "- Mercurial\n",
    "- checkpoint---commits\n",
    "    - fix one by one bugs\n",
    "    - add new cool features\n",
    "    - improve  user docs"
   ]
  },
  {
   "cell_type": "markdown",
   "metadata": {},
   "source": [
    "git init to initialize the folder\n",
    "\n",
    "git log to get the logbook of commits and so on every commits is labeld by ID\n",
    "\n",
    "windows: git diff ID1 ID2 compares two different version of the file\n",
    "\n",
    "mac diff --git ID1 ID2"
   ]
  },
  {
   "cell_type": "markdown",
   "metadata": {},
   "source": [
    "A good rule of thumb is to make one commit per logical change"
   ]
  },
  {
   "cell_type": "markdown",
   "metadata": {},
   "source": [
    "- You commit all the changes required to add a new feature, which you’ve been working on for a week. You haven’t committed since you started working on it.\n",
    "- You find three typos in your README. You fix and commit the first.\n",
    "- You commit all the changes required to add a new feature, which you’ve been working on for an hour.\n",
    "- You fix two small bugs in different functions and commit them both at once."
   ]
  },
  {
   "cell_type": "markdown",
   "metadata": {},
   "source": [
    "repository: collection of files"
   ]
  },
  {
   "cell_type": "markdown",
   "metadata": {},
   "source": [
    "snapshot of all the files at one point in the time\n",
    "\n",
    "git --log stat   statistics about files commits"
   ]
  },
  {
   "cell_type": "markdown",
   "metadata": {},
   "source": [
    "git checkout to get rit of one commit"
   ]
  },
  {
   "cell_type": "markdown",
   "metadata": {},
   "source": [
    "# Workspace in git"
   ]
  },
  {
   "cell_type": "markdown",
   "metadata": {},
   "source": [
    "Behavior of git checkout\n",
    "Checking out an earlier commit will change the state of at least one file.\n",
    "\n",
    "This is sometimes true. Git doesn't allow you to save a new commit if no files have been updated, so you might think this is always true. However, it's possible to do the following:\n",
    "\n",
    "Save a commit (call this commit 1).\n",
    "Update some files and save another commit (call this commit 2).\n",
    "Change all the files back to their state during commit 1, then save again (call this commit 3).\n",
    "This sometimes happens if commit 2 contained a bug, and it's important to fix the bug quickly. The easiest thing to do might be to remove all the changes introduced by commit 2 to fix the bug, then figure out how to safely reintroduce the changes later.\n",
    "\n",
    "At this point, commit 3 is the latest commit, so if you checkout commit 1, none of the files will be changed. \n",
    "\n",
    "\n",
    "Checking out an earlier commit will change the state of more than one file.\n",
    "\n",
    "Checking out an earlier commit will change the state of every file in the repository.\n",
    "\n",
    "Both of these are sometimes true. Since each commit tracks the state of all files in the repository, it is possible that checking out an earlier commit will change the state of multiple files, or even all the files in the repository. However, it is possible to save a new commit after changing only one file, so it is possible only one file will change. \n",
    "\n",
    "\n",
    "After checking out a commit, the state of all the files in the repository will be from the same point in time.\n",
    "\n",
    "This is always true. A commit saves a snapshot of all files in the repository at the time the commit was made, so checking out an earlier commit will result in all the files being reverted to their state at the time the commit was made. That is, the files will be in a consistent state."
   ]
  },
  {
   "cell_type": "markdown",
   "metadata": {
    "collapsed": true
   },
   "source": [
    "git log\n",
    "\n",
    "git status\n",
    "\n",
    "if you accidentally add a file to the staging area, you can remove it using git reset\n",
    "\n",
    "if you accidentally add lesson_2_reflections.txt, but don’t want it to be committed yet, run git reset lesson_2_reflections.txt \n",
    "\n",
    "git add file\n",
    "\n",
    "On branch master\n",
    "\n",
    "Initial commit\n",
    "\n",
    "Changes to be committed:\n",
    "  (use \"git rm --cached <file>...\" to unstage)\n",
    "\n",
    "\tnew file:   lesson-2-reflection-prompts.txt\n",
    "\n"
   ]
  },
  {
   "cell_type": "markdown",
   "metadata": {},
   "source": [
    "Concept Map: init, add, staging area\n",
    "We’ve introduced a few new concepts since we last revisited our concept map.\n",
    "\n",
    "git init\n",
    "git add\n",
    "git status\n",
    "staging area\n",
    "working directory\n",
    "Previous Version\n",
    "Remember our concept map from last lesson? Here’s what it looked like the last time we added a new concept.\n",
    "\n",
    "Concept Map from last time\n",
    "\n",
    "Where Do the New Concepts Go?\n",
    "Here’s the structure we’ve come up with for how to add these new concepts in to the map. Which concept belongs where?\n",
    "\n",
    "Concept Map with blanks\n",
    "\n",
    "In the following quiz, write in the concept that you think belongs in each new empty node.\n",
    "\n",
    "\n",
    "Reflect: Staging Area\n",
    "Now that you’ve added a file to the staging area (or maybe multiple files!), go add the following question and your thoughts on it to your lesson_2_reflections file:\n",
    "\n",
    "How is the staging area different from the working directory and the repository? What value do you think it offers?\n",
    "\n",
    "When you've updated your document, click \"Next\" and Caroline will go over how to commit the changes you’ve added to the staging area."
   ]
  },
  {
   "cell_type": "markdown",
   "metadata": {},
   "source": [
    "How to write a commit message\n",
    "You're about to make your first commit to your reflections repository. When you do this, you'll need to write a commit message describing your changes. If you followed the instructions in the \"Setting Up Your Workspace\" video for your platform near the end of Lesson 1, the editor you chose will appear as soon as you run git commit and allow you to write a commit message. If you get an error message, you should try revisiting the instructions in Lesson 1 and make sure your text editor is set up properly.\n",
    "\n",
    "You can also specify a commit message via the command line by running git commit -m \"Commit message\" instead of just git commit. It's still a good idea to get an editor set up, since this will make it easier to write long commit messages that fully describe the change.\n",
    "\n",
    "Commit message style\n",
    "While commit message style varies from person to person, this style guide describes some common best practices when writing commit messages."
   ]
  },
  {
   "cell_type": "markdown",
   "metadata": {
    "collapsed": true
   },
   "source": [
    "# Important command\n",
    "\n",
    "- git commit\n",
    "- git add\n",
    "- git log\n",
    "- git status\n",
    "- git checkout\n",
    "- git diff ID1 ID2\n",
    "- git diff with no argument i compare working directory with staging area\n",
    "- git diff --staged diff between staging area and repository\n",
    "- git reset --hard  get rid of the changes not committed\n",
    "- git checkout master\n",
    "- git branch\n",
    "- git branch nameBranch\n",
    "- git checkout nameBranch\n",
    "- git log nameBranch --not master\n",
    "- git log --graph --oneline master coins\n",
    "- git log --graph\n",
    "- git log -n1\n",
    "\n",
    "trick\n",
    "- git checkout -b newbranchName == git branch newbranchName & git checkout newbranchName\n",
    "- git merge master newBranch\n",
    "- compare a commit to its parent is git show commit_id\n",
    "- Restore your files to their state before you started the merge by running git merge --abort"
   ]
  },
  {
   "cell_type": "markdown",
   "metadata": {},
   "source": [
    "- working directory\n",
    "\n",
    "- stagin area\n",
    "\n",
    "- repository\n",
    "\n",
    "<img src=\"gitDiff.png\">"
   ]
  },
  {
   "cell_type": "markdown",
   "metadata": {},
   "source": [
    "reachability concept (reach a commit through the branch)"
   ]
  },
  {
   "cell_type": "markdown",
   "metadata": {},
   "source": [
    "Diagramming Tools\n",
    "- gliffy\n",
    "- yUML"
   ]
  },
  {
   "cell_type": "code",
   "execution_count": null,
   "metadata": {
    "collapsed": true
   },
   "outputs": [],
   "source": []
  }
 ],
 "metadata": {
  "anaconda-cloud": {},
  "kernelspec": {
   "display_name": "Python 3",
   "language": "python",
   "name": "python3"
  },
  "language_info": {
   "codemirror_mode": {
    "name": "ipython",
    "version": 3
   },
   "file_extension": ".py",
   "mimetype": "text/x-python",
   "name": "python",
   "nbconvert_exporter": "python",
   "pygments_lexer": "ipython3",
   "version": "3.6.1"
  }
 },
 "nbformat": 4,
 "nbformat_minor": 2
}
